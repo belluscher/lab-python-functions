{
 "cells": [
  {
   "cell_type": "markdown",
   "id": "25d7736c-ba17-4aff-b6bb-66eba20fbf4e",
   "metadata": {},
   "source": [
    "# Lab | Functions"
   ]
  },
  {
   "cell_type": "markdown",
   "id": "0c581062-8967-4d93-b06e-62833222f930",
   "metadata": {
    "tags": []
   },
   "source": [
    "## Exercise: Managing Customer Orders with Functions\n",
    "\n",
    "In the previous exercise, you improved the code for managing customer orders by using loops and flow control. Now, let's take it a step further and refactor the code by introducing functions.\n",
    "\n",
    "Follow the steps below to complete the exercise:\n",
    "\n",
    "1. Define a function named `initialize_inventory` that takes `products` as a parameter. Inside the function, implement the code for initializing the inventory dictionary using a loop and user input.\n",
    "\n",
    "2. Define a function named `get_customer_orders` that takes no parameters. Inside the function, implement the code for prompting the user to enter the product names using a loop. The function should return the `customer_orders` set.\n",
    "\n",
    "3. Define a function named `update_inventory` that takes `customer_orders` and `inventory` as parameters. Inside the function, implement the code for updating the inventory dictionary based on the customer orders.\n",
    "\n",
    "4. Define a function named `calculate_order_statistics` that takes `customer_orders` and `products` as parameters. Inside the function, implement the code for calculating the order statistics (total products ordered, and percentage of unique products ordered). The function should return these values.\n",
    "\n",
    "5. Define a function named `print_order_statistics` that takes `order_statistics` as a parameter. Inside the function, implement the code for printing the order statistics.\n",
    "\n",
    "6. Define a function named `print_updated_inventory` that takes `inventory` as a parameter. Inside the function, implement the code for printing the updated inventory.\n",
    "\n",
    "7. Call the functions in the appropriate sequence to execute the program and manage customer orders.\n",
    "\n",
    "Hints for functions:\n",
    "\n",
    "- Consider the input parameters required for each function and their return values.\n",
    "- Utilize function parameters and return values to transfer data between functions.\n",
    "- Test your functions individually to ensure they work correctly.\n",
    "\n",
    "\n"
   ]
  },
  {
   "cell_type": "code",
   "execution_count": 18,
   "id": "6fd040b5-e2b5-405b-ab31-1a5c022df11c",
   "metadata": {},
   "outputs": [
    {
     "name": "stdout",
     "output_type": "stream",
     "text": [
      "How many items in t-shirt1\n",
      "How many items in mug2\n",
      "How many items in hat3\n",
      "How many items in book4\n",
      "How many items in keychain2\n"
     ]
    }
   ],
   "source": [
    "# Define a function named initialize_inventory that takes products as a parameter. Inside the function, implement the code for initializing the inventory dictionary using a loop and user input.\n",
    "\n",
    "products = [\"t-shirt\", \"mug\", \"hat\", \"book\", \"keychain\"]\n",
    "\n",
    "def initialize_inventory (products):\n",
    "    inventory = {}\n",
    "    for product in products:\n",
    "        inventory[product] = int(input(f\"How many items in {product}\"))\n",
    "    return inventory\n",
    "\n",
    "inventory = initialize_inventory(products)"
   ]
  },
  {
   "cell_type": "code",
   "execution_count": 19,
   "id": "d0995276-2f9c-4a46-8821-c9b4ca4e32b6",
   "metadata": {},
   "outputs": [
    {
     "name": "stdout",
     "output_type": "stream",
     "text": [
      "What product do you want to buy?mug\n",
      "Do you want to add more products to your order?no\n",
      "thank you for your order\n"
     ]
    },
    {
     "data": {
      "text/plain": [
       "{'mug'}"
      ]
     },
     "execution_count": 19,
     "metadata": {},
     "output_type": "execute_result"
    }
   ],
   "source": [
    "# Define a function named get_customer_orders that takes no parameters. \n",
    "#Inside the function, implement the code for prompting the user to enter the product names using a loop. \n",
    "#The function should return the customer_orders set.\n",
    "\n",
    "def get_customer_orders():\n",
    "    customer_orders = set()\n",
    "    order = input(\"What product do you want to buy?\")\n",
    "    if order in products:\n",
    "        customer_orders.add(order)\n",
    "    another = input(\"Do you want to add more products to your order?\")\n",
    "    while another.lower() == \"yes\":\n",
    "        new_product = input(\"What product do you want to buy?\")\n",
    "        if new_product in products:\n",
    "            customer_orders.add(new_product)\n",
    "        another = input(\"Do you want to add more products to your order?\")\n",
    "    else:\n",
    "        print (\"thank you for your order\")\n",
    "    return customer_orders\n",
    "    \n",
    "customer_orders = get_customer_orders()\n",
    "customer_orders"
   ]
  },
  {
   "cell_type": "code",
   "execution_count": 32,
   "id": "e71788d8-4877-485d-8706-eac1a9bd4b23",
   "metadata": {},
   "outputs": [],
   "source": [
    "# Define a function named update_inventory that takes customer_orders and inventory as parameters. \n",
    "# Inside the function, implement the code for updating the inventory dictionary based on the customer orders.   \n",
    "\n",
    "def update_inventory (customer_orders, inventory):\n",
    "    for order in customer_orders:\n",
    "        if order in inventory:\n",
    "         inventory[order]-= 1\n",
    "    "
   ]
  },
  {
   "cell_type": "code",
   "execution_count": 33,
   "id": "ca78a544-376f-41d4-8590-b3f5bff3893d",
   "metadata": {},
   "outputs": [
    {
     "data": {
      "text/plain": [
       "[1, 9.090909090909092]"
      ]
     },
     "execution_count": 33,
     "metadata": {},
     "output_type": "execute_result"
    }
   ],
   "source": [
    "# Define a function named calculate_order_statistics that takes customer_orders and products as parameters. \n",
    "# Inside the function, implement the code for calculating the order statistics (total products ordered, and percentage of unique products ordered). \n",
    "# The function should return these values.\n",
    "\n",
    "def calculate_order_statistics (customer_orders, products):\n",
    "    total_order = len(customer_orders)\n",
    "    total_inventory = sum(inventory.values())\n",
    "    percentage = (total_order/ total_inventory) * 100\n",
    "    return [total_order, percentage]\n",
    "calculated_order_statistics = calculate_order_statistics(customer_orders, products)\n",
    "calculated_order_statistics"
   ]
  },
  {
   "cell_type": "code",
   "execution_count": 37,
   "id": "3ff011f0-935f-4af0-9e97-ba9268a42fb7",
   "metadata": {},
   "outputs": [],
   "source": [
    "# Define a function named print_order_statistics that takes order_statistics as a parameter. \n",
    "# Inside the function, implement the code for printing the order statistics.\n",
    "\n",
    "def print_order_statistics (order_statistics):\n",
    "    print(f\"The total number of products in order is {order_statistics[0]}, which represents {order_statistics[1]}% of our inventory.\")\n",
    "\n",
    "    \n"
   ]
  },
  {
   "cell_type": "code",
   "execution_count": 38,
   "id": "b427100f-59b9-4057-bbf0-51170fac6575",
   "metadata": {},
   "outputs": [],
   "source": [
    "# Define a function named print_updated_inventory that takes inventory as a parameter. \n",
    "# Inside the function, implement the code for printing the updated inventory.\n",
    "\n",
    "def print_updated_inventory (update_inventory):\n",
    "    print(update_inventory)\n"
   ]
  },
  {
   "cell_type": "code",
   "execution_count": 40,
   "id": "4fd8908f-b826-4ebb-baf2-55669cdde87f",
   "metadata": {},
   "outputs": [
    {
     "name": "stdout",
     "output_type": "stream",
     "text": [
      "How many items in t-shirt1\n",
      "How many items in mug2\n",
      "How many items in hat3\n",
      "How many items in book4\n",
      "How many items in keychain5\n",
      "What product do you want to buy?mug\n",
      "Do you want to add more products to your order?no\n",
      "thank you for your order\n",
      "The total number of products in order is 1, which represents 9.090909090909092% of our inventory.\n",
      "{'t-shirt': 1, 'mug': -1, 'hat': 3, 'book': 4, 'keychain': 2}\n"
     ]
    }
   ],
   "source": [
    "# Call the functions in the appropriate sequence to execute the program and manage customer orders.\n",
    "# Hints for functions:\n",
    "# Consider the input parameters required for each function and their return values.\n",
    "# Utilize function parameters and return values to transfer data between functions.\n",
    "# Test your functions individually to ensure they work correctly.\n",
    "\n",
    "products = [\"t-shirt\", \"mug\", \"hat\", \"book\", \"keychain\"]\n",
    "\n",
    "initialize_inventory (products)\n",
    "get_customer_orders()\n",
    "update_inventory (customer_orders, inventory)\n",
    "calculate_order_statistics (customer_orders, products)\n",
    "print_order_statistics (order_statistics)\n",
    "print_updated_inventory (inventory)"
   ]
  },
  {
   "cell_type": "code",
   "execution_count": null,
   "id": "4334827d-7375-4540-be73-c0afbbc5c209",
   "metadata": {},
   "outputs": [],
   "source": []
  },
  {
   "cell_type": "code",
   "execution_count": null,
   "id": "15ca589a",
   "metadata": {},
   "outputs": [],
   "source": []
  },
  {
   "cell_type": "code",
   "execution_count": null,
   "id": "a8b543b8",
   "metadata": {},
   "outputs": [],
   "source": []
  }
 ],
 "metadata": {
  "kernelspec": {
   "display_name": "Python 3 (ipykernel)",
   "language": "python",
   "name": "python3"
  },
  "language_info": {
   "codemirror_mode": {
    "name": "ipython",
    "version": 3
   },
   "file_extension": ".py",
   "mimetype": "text/x-python",
   "name": "python",
   "nbconvert_exporter": "python",
   "pygments_lexer": "ipython3",
   "version": "3.11.7"
  }
 },
 "nbformat": 4,
 "nbformat_minor": 5
}
